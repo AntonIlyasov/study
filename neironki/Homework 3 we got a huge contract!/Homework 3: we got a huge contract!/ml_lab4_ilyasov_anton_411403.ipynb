{
 "cells": [
  {
   "cell_type": "markdown",
   "metadata": {},
   "source": [
    "\n",
    "---\n",
    "\n",
    "Ильясов Антон Евгеньевич 411403\n",
    "\n",
    "---\n",
    "The task of this homework is to design a computer vision routine to find objects on a shelve\n",
    "in a supermarket.\n",
    "\n",
    "Evaluation criteria for this homework:\n",
    "1. The computer vision routine should accurately find and return the bounding box\n",
    "coordinates of the query image in the given input image.\n",
    "2. The routine should work for any number of query images.\n",
    "3. The returned bounding boxes should be in the format of [x, y, w, h] where (x, y) is the\n",
    "top-left corner and (w, h) is the width and height of the bounding box.\n",
    "4. The code should be readable and properly commented."
   ]
  },
  {
   "cell_type": "code",
   "execution_count": 65,
   "metadata": {},
   "outputs": [],
   "source": [
    "import cv2\n",
    "import numpy as np\n",
    "import cv2\n",
    "import matplotlib.pyplot as plt\n",
    "import numpy as np\n",
    "import random\n",
    "from tqdm.notebook import tqdm"
   ]
  },
  {
   "cell_type": "markdown",
   "metadata": {},
   "source": [
    "Read image and convert them to gray"
   ]
  },
  {
   "cell_type": "code",
   "execution_count": 66,
   "metadata": {},
   "outputs": [],
   "source": [
    "# Загрузите изображение полки и изображение коробки сока\n",
    "shelf_image = cv2.imread('shelf.jpg')\n",
    "juice_box_image = cv2.imread('juice_box.jpg')\n"
   ]
  },
  {
   "cell_type": "code",
   "execution_count": 67,
   "metadata": {},
   "outputs": [],
   "source": [
    "# Преобразуйте изображения в оттенки серого\n",
    "shelf_gray = cv2.cvtColor(shelf_image, cv2.COLOR_BGR2GRAY)\n",
    "juice_box_gray = cv2.cvtColor(juice_box_image, cv2.COLOR_BGR2GRAY)\n"
   ]
  },
  {
   "cell_type": "markdown",
   "metadata": {},
   "source": [
    "Extracting keypoints and computing descriptors using SIFT"
   ]
  },
  {
   "cell_type": "code",
   "execution_count": 68,
   "metadata": {},
   "outputs": [],
   "source": [
    "# Создайте объект SIFT\n",
    "sift = cv2.SIFT_create()\n",
    "\n",
    "# Найдите ключевые точки и дескрипторы с помощью SIFT\n",
    "keypoints_shelf, descriptors_shelf = sift.detectAndCompute(shelf_gray, None)\n",
    "keypoints_juice_box, descriptors_juice_box = sift.detectAndCompute(juice_box_gray, None)"
   ]
  },
  {
   "cell_type": "code",
   "execution_count": 69,
   "metadata": {},
   "outputs": [],
   "source": [
    "def matcher(kp1, des1, kp2, des2, threshold):\n",
    "    \n",
    "    bf = cv2.BFMatcher(cv2.NORM_L2, crossCheck=False)\n",
    "    matches = bf.knnMatch(des1,des2, k=2)\n",
    "\n",
    "    # # Apply ratio test\n",
    "    # good = []\n",
    "    # for m,n in matches:\n",
    "    #     if m.distance < threshold*n.distance:\n",
    "    #         good.append(m)\n",
    "\n",
    "    # matches = []\n",
    "    # for pair in good:\n",
    "    #     matches.append(list(kp1[pair[0].queryIdx].pt + kp2[pair[0].trainIdx].pt))\n",
    "\n",
    "    # matches = np.array(matches)\n",
    "    return matches"
   ]
  },
  {
   "cell_type": "code",
   "execution_count": 70,
   "metadata": {},
   "outputs": [],
   "source": [
    "matches = matcher(keypoints_juice_box, descriptors_juice_box, keypoints_shelf, descriptors_shelf, 0.5)"
   ]
  },
  {
   "cell_type": "code",
   "execution_count": 71,
   "metadata": {},
   "outputs": [
    {
     "ename": "AttributeError",
     "evalue": "'tuple' object has no attribute 'queryIdx'",
     "output_type": "error",
     "traceback": [
      "\u001b[0;31m---------------------------------------------------------------------------\u001b[0m",
      "\u001b[0;31mAttributeError\u001b[0m                            Traceback (most recent call last)",
      "Cell \u001b[0;32mIn[71], line 2\u001b[0m\n\u001b[1;32m      1\u001b[0m \u001b[38;5;66;03m# Найдите гомографию между ключевыми точками\u001b[39;00m\n\u001b[0;32m----> 2\u001b[0m src_pts \u001b[38;5;241m=\u001b[39m np\u001b[38;5;241m.\u001b[39mfloat32([keypoints_juice_box[m\u001b[38;5;241m.\u001b[39mqueryIdx]\u001b[38;5;241m.\u001b[39mpt \u001b[38;5;28;01mfor\u001b[39;00m m \u001b[38;5;129;01min\u001b[39;00m matches])\u001b[38;5;241m.\u001b[39mreshape(\u001b[38;5;241m-\u001b[39m\u001b[38;5;241m1\u001b[39m, \u001b[38;5;241m1\u001b[39m, \u001b[38;5;241m2\u001b[39m)\n\u001b[1;32m      3\u001b[0m dst_pts \u001b[38;5;241m=\u001b[39m np\u001b[38;5;241m.\u001b[39mfloat32([keypoints_shelf[m\u001b[38;5;241m.\u001b[39mtrainIdx]\u001b[38;5;241m.\u001b[39mpt \u001b[38;5;28;01mfor\u001b[39;00m m \u001b[38;5;129;01min\u001b[39;00m matches])\u001b[38;5;241m.\u001b[39mreshape(\u001b[38;5;241m-\u001b[39m\u001b[38;5;241m1\u001b[39m, \u001b[38;5;241m1\u001b[39m, \u001b[38;5;241m2\u001b[39m)\n\u001b[1;32m      5\u001b[0m \u001b[38;5;66;03m# # Используйте RANSAC для вычисления гомографии\u001b[39;00m\n\u001b[1;32m      6\u001b[0m \u001b[38;5;66;03m# M, mask = cv2.findHomography(src_pts, dst_pts, cv2.RANSAC, 5.0)\u001b[39;00m\n\u001b[1;32m      7\u001b[0m \n\u001b[0;32m   (...)\u001b[0m\n\u001b[1;32m     20\u001b[0m \u001b[38;5;66;03m# cv2.waitKey(0)\u001b[39;00m\n\u001b[1;32m     21\u001b[0m \u001b[38;5;66;03m# cv2.destroyAllWindows()\u001b[39;00m\n",
      "Cell \u001b[0;32mIn[71], line 2\u001b[0m, in \u001b[0;36m<listcomp>\u001b[0;34m(.0)\u001b[0m\n\u001b[1;32m      1\u001b[0m \u001b[38;5;66;03m# Найдите гомографию между ключевыми точками\u001b[39;00m\n\u001b[0;32m----> 2\u001b[0m src_pts \u001b[38;5;241m=\u001b[39m np\u001b[38;5;241m.\u001b[39mfloat32([keypoints_juice_box[\u001b[43mm\u001b[49m\u001b[38;5;241;43m.\u001b[39;49m\u001b[43mqueryIdx\u001b[49m]\u001b[38;5;241m.\u001b[39mpt \u001b[38;5;28;01mfor\u001b[39;00m m \u001b[38;5;129;01min\u001b[39;00m matches])\u001b[38;5;241m.\u001b[39mreshape(\u001b[38;5;241m-\u001b[39m\u001b[38;5;241m1\u001b[39m, \u001b[38;5;241m1\u001b[39m, \u001b[38;5;241m2\u001b[39m)\n\u001b[1;32m      3\u001b[0m dst_pts \u001b[38;5;241m=\u001b[39m np\u001b[38;5;241m.\u001b[39mfloat32([keypoints_shelf[m\u001b[38;5;241m.\u001b[39mtrainIdx]\u001b[38;5;241m.\u001b[39mpt \u001b[38;5;28;01mfor\u001b[39;00m m \u001b[38;5;129;01min\u001b[39;00m matches])\u001b[38;5;241m.\u001b[39mreshape(\u001b[38;5;241m-\u001b[39m\u001b[38;5;241m1\u001b[39m, \u001b[38;5;241m1\u001b[39m, \u001b[38;5;241m2\u001b[39m)\n\u001b[1;32m      5\u001b[0m \u001b[38;5;66;03m# # Используйте RANSAC для вычисления гомографии\u001b[39;00m\n\u001b[1;32m      6\u001b[0m \u001b[38;5;66;03m# M, mask = cv2.findHomography(src_pts, dst_pts, cv2.RANSAC, 5.0)\u001b[39;00m\n\u001b[1;32m      7\u001b[0m \n\u001b[0;32m   (...)\u001b[0m\n\u001b[1;32m     20\u001b[0m \u001b[38;5;66;03m# cv2.waitKey(0)\u001b[39;00m\n\u001b[1;32m     21\u001b[0m \u001b[38;5;66;03m# cv2.destroyAllWindows()\u001b[39;00m\n",
      "\u001b[0;31mAttributeError\u001b[0m: 'tuple' object has no attribute 'queryIdx'"
     ]
    }
   ],
   "source": [
    "# Найдите гомографию между ключевыми точками\n",
    "src_pts = np.float32([keypoints_juice_box[m.queryIdx].pt for m in matches]).reshape(-1, 1, 2)\n",
    "dst_pts = np.float32([keypoints_shelf[m.trainIdx].pt for m in matches]).reshape(-1, 1, 2)\n",
    "\n",
    "# # Используйте RANSAC для вычисления гомографии\n",
    "# M, mask = cv2.findHomography(src_pts, dst_pts, cv2.RANSAC, 5.0)\n",
    "\n",
    "# # Получите размеры изображения коробки сока\n",
    "# h, w = juice_box_image.shape[:2]\n",
    "\n",
    "# # Используйте гомографию для проецирования углов изображения коробки сока на изображение полки\n",
    "# pts = np.float32([[0, 0], [0, h - 1], [w - 1, h - 1], [w - 1, 0]]).reshape(-1, 1, 2)\n",
    "# dst = cv2.perspectiveTransform(pts, M)\n",
    "\n",
    "# # Нарисуйте ограничивающую рамку вокруг коробки сока на изображении полки\n",
    "# shelf_image = cv2.polylines(shelf_image, [np.int32(dst)], True, (255, 0, 0), 3, cv2.LINE_AA)\n",
    "\n",
    "# # Покажите результат\n",
    "# cv2.imshow('Juice Box Detection', shelf_image)\n",
    "# cv2.waitKey(0)\n",
    "# cv2.destroyAllWindows()"
   ]
  }
 ],
 "metadata": {
  "kernelspec": {
   "display_name": "Python 3",
   "language": "python",
   "name": "python3"
  },
  "language_info": {
   "codemirror_mode": {
    "name": "ipython",
    "version": 3
   },
   "file_extension": ".py",
   "mimetype": "text/x-python",
   "name": "python",
   "nbconvert_exporter": "python",
   "pygments_lexer": "ipython3",
   "version": "3.10.12"
  }
 },
 "nbformat": 4,
 "nbformat_minor": 4
}
