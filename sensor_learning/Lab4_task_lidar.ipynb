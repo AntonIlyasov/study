{
 "cells": [
  {
   "cell_type": "markdown",
   "metadata": {
    "id": "H_X4Mb49Gg5u"
   },
   "source": [
    "## Лабораторная работа № 4.1\n",
    "-----\n",
    "### LIDAR данные\n",
    "\n",
    "В данной работе предлагается изучить данные с LIDAR.\n",
    "\n",
    "\n",
    "**В данной работе необходимо:**\n"
   ]
  },
  {
   "cell_type": "code",
   "execution_count": null,
   "metadata": {
    "id": "VzshIwuuR2Ma"
   },
   "outputs": [],
   "source": [
    "#установка пакета для скачивания файла с гугл диска\n",
    "!pip install gdown > null"
   ]
  },
  {
   "cell_type": "code",
   "execution_count": 5,
   "metadata": {
    "colab": {
     "base_uri": "https://localhost:8080/"
    },
    "id": "g-wJH0QrG7bM",
    "outputId": "e5744b35-2b90-4a2a-e3c2-6a12b0c2695c"
   },
   "outputs": [
    {
     "name": "stderr",
     "output_type": "stream",
     "text": [
      "Downloading...\n",
      "From: https://drive.google.com/uc?id=1SepZsqoA-3RV8Y193H1-XLDolEPRfCUJ\n",
      "To: C:\\Users\\xmlpro100\\Desktop\\СОР 2023\\new labs\\data_file.ext\n",
      "100%|██████████| 6.98M/6.98M [00:03<00:00, 2.00MB/s]\n"
     ]
    },
    {
     "data": {
      "text/plain": [
       "'data_file.ext'"
      ]
     },
     "execution_count": 5,
     "metadata": {},
     "output_type": "execute_result"
    }
   ],
   "source": [
    "\n",
    "import gdown\n",
    "#Скачивание необходимых файлов\n",
    "file_id = \"1SepZsqoA-3RV8Y193H1-XLDolEPRfCUJ\"  # Replace this with your file's ID\n",
    "output_file = \"data_file.ext\"  # Replace \"data_file.ext\" with the desired output filename and extension\n",
    "\n",
    "gdown.download(f\"https://drive.google.com/uc?id={file_id}\", output_file)\n"
   ]
  },
  {
   "cell_type": "code",
   "execution_count": 52,
   "metadata": {
    "colab": {
     "base_uri": "https://localhost:8080/"
    },
    "id": "TA6c8x1WTFIv",
    "outputId": "2142b691-3315-44a6-d114-a1fd8d3e57a5"
   },
   "outputs": [],
   "source": [
    "#читаем данные из файла и парсим в отдельные измерения\n",
    "f = open('data_file.ext')\n",
    "datalist = f.read().split('header:')\n",
    "#итерируемся по первым 100 сигналам с лидара\n",
    "for i in range(100):\n",
    "    # data_str['header'].append(\n",
    "    seq = datalist[i].split('\\n')\n",
    "    if len(seq) == 1:\n",
    "        pass\n",
    "    else:\n",
    "        for pos in seq:\n",
    "            print(pos.strip().split(': '))"
   ]
  },
  {
   "cell_type": "markdown",
   "metadata": {
    "executionInfo": {
     "elapsed": 11,
     "status": "aborted",
     "timestamp": 1663694783644,
     "user": {
      "displayName": "Islam Bzhikhatlov",
      "userId": "16728378629798945786"
     },
     "user_tz": -180
    },
    "id": "amZFSOpvGg6D"
   },
   "source": [
    "## Задание\n",
    "Предлагается восстановить траеткори. движения системы координат, связанной с датчиком."
   ]
  },
  {
   "cell_type": "code",
   "execution_count": 7,
   "metadata": {
    "id": "tiWk4z3WTXXY"
   },
   "outputs": [],
   "source": [
    "\n",
    "# pip install open3d # для collab"
   ]
  },
  {
   "cell_type": "code",
   "execution_count": null,
   "metadata": {},
   "outputs": [],
   "source": [
    "# pip install laspy[lazrs, laszip]"
   ]
  },
  {
   "cell_type": "code",
   "execution_count": null,
   "metadata": {
    "executionInfo": {
     "elapsed": 13,
     "status": "aborted",
     "timestamp": 1663694783646,
     "user": {
      "displayName": "Islam Bzhikhatlov",
      "userId": "16728378629798945786"
     },
     "user_tz": -180
    },
    "id": "iTYKlyO3Gg6D"
   },
   "outputs": [],
   "source": []
  }
 ],
 "metadata": {
  "colab": {
   "collapsed_sections": [
    "RqxKpnqlGg58",
    "-FksfTCHGg5_",
    "0N4phutVGg6C",
    "5CdatoaqGg6C"
   ],
   "provenance": []
  },
  "kernelspec": {
   "display_name": "Python 3",
   "language": "python",
   "name": "python3"
  },
  "language_info": {
   "codemirror_mode": {
    "name": "ipython",
    "version": 3
   },
   "file_extension": ".py",
   "mimetype": "text/x-python",
   "name": "python",
   "nbconvert_exporter": "python",
   "pygments_lexer": "ipython3",
   "version": "3.10.9"
  }
 },
 "nbformat": 4,
 "nbformat_minor": 4
}
