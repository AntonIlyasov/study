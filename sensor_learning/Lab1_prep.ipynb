{
 "cells": [
  {
   "cell_type": "markdown",
   "metadata": {},
   "source": [
    "# Подготовка к ЛР №1\n",
    "## Курс \"Системы очувствления роботов\""
   ]
  },
  {
   "cell_type": "markdown",
   "metadata": {},
   "source": [
    "<b>Цель работы:</b> ознакомиться с основными математическими операциями и инструментами, необходимыми для обработки сенсорной информации с использованием языка программирования Python.\n"
   ]
  },
  {
   "cell_type": "code",
   "execution_count": 2,
   "metadata": {},
   "outputs": [],
   "source": [
    "#подключение библиотек\n",
    "import numpy as np\n",
    "from numpy import linalg\n",
    "import matplotlib.pyplot as plt"
   ]
  },
  {
   "cell_type": "markdown",
   "metadata": {},
   "source": [
    "### Основы работы"
   ]
  },
  {
   "cell_type": "code",
   "execution_count": 2,
   "metadata": {},
   "outputs": [
    {
     "name": "stdout",
     "output_type": "stream",
     "text": [
      "1.4142135623730956\n"
     ]
    }
   ],
   "source": [
    "#пример вычисления сложного выражения\n",
    "x = 3\n",
    "y = np.sin(np.pi*x) + np.sqrt(2)\n",
    "print(y)"
   ]
  },
  {
   "cell_type": "code",
   "execution_count": 3,
   "metadata": {},
   "outputs": [
    {
     "data": {
      "text/plain": [
       "3.141592653589793"
      ]
     },
     "execution_count": 3,
     "metadata": {},
     "output_type": "execute_result"
    }
   ],
   "source": [
    "alfa = 180 #градусы\n",
    "betta = np.deg2rad(alfa)\n",
    "betta"
   ]
  },
  {
   "cell_type": "markdown",
   "metadata": {},
   "source": [
    "Обратите внимание, что библиотека Numpy работает с радианами!"
   ]
  },
  {
   "cell_type": "markdown",
   "metadata": {},
   "source": [
    "Если необходимо преобразовать, можно воспользоваться функцией: degrees = np.deg2rad(radians)"
   ]
  },
  {
   "cell_type": "code",
   "execution_count": 4,
   "metadata": {},
   "outputs": [],
   "source": [
    "#пример написания функций\n",
    "def calculate_sin(x):\n",
    "    y = np.sin(x)\n",
    "    return y"
   ]
  },
  {
   "cell_type": "code",
   "execution_count": 6,
   "metadata": {},
   "outputs": [
    {
     "name": "stdout",
     "output_type": "stream",
     "text": [
      "0.8414709848078965\n"
     ]
    }
   ],
   "source": [
    "a = 1\n",
    "b = calculate_sin(a)\n",
    "print(b)"
   ]
  },
  {
   "cell_type": "code",
   "execution_count": 7,
   "metadata": {},
   "outputs": [
    {
     "name": "stdout",
     "output_type": "stream",
     "text": [
      "x =  [0.  0.5 1.  1.5 2.  2.5 3.  3.5 4.  4.5 5.  5.5 6.  6.5 7.  7.5]\n",
      "y =  [0.   0.75 1.5  2.25 3.  ]\n"
     ]
    }
   ],
   "source": [
    "#пример с генерацией векторов\n",
    "x = np.arange(0,8,0.5) #от 0 до 8 с шагом 0.5\n",
    "y = np.linspace(0.0, 3.0, num=5) #от 0 до 3 разбивает на 5 точек (включая начало и конец)\n",
    "print('x = ', x)\n",
    "print('y = ', y)"
   ]
  },
  {
   "cell_type": "code",
   "execution_count": 8,
   "metadata": {},
   "outputs": [
    {
     "name": "stdout",
     "output_type": "stream",
     "text": [
      "<class 'numpy.ndarray'>\n",
      "<class 'numpy.ndarray'>\n"
     ]
    }
   ],
   "source": [
    "#посмотреть тип данных\n",
    "print(type(x))\n",
    "print(type(y))"
   ]
  },
  {
   "cell_type": "code",
   "execution_count": 3,
   "metadata": {},
   "outputs": [
    {
     "name": "stdout",
     "output_type": "stream",
     "text": [
      "A=\n",
      " [1 2 3]\n",
      "B=\n",
      " [[1 2 3]\n",
      " [4 5 6]\n",
      " [7 8 9]]\n",
      "<class 'numpy.ndarray'>\n",
      "<class 'numpy.ndarray'>\n"
     ]
    }
   ],
   "source": [
    "#создание матрицы\n",
    "A = np.array([1, 2, 3]) #одномерная матрица\n",
    "B = np.array([[1, 2, 3],\n",
    "              [4, 5, 6],\n",
    "              [7, 8, 9]])\n",
    "print('A=\\n',A)\n",
    "print('B=\\n',B)\n",
    "print(type(A))\n",
    "print(type(B))"
   ]
  },
  {
   "cell_type": "code",
   "execution_count": 10,
   "metadata": {},
   "outputs": [
    {
     "name": "stdout",
     "output_type": "stream",
     "text": [
      "Подматрица A:\n",
      "  [[2 3]\n",
      " [5 6]]\n"
     ]
    }
   ],
   "source": [
    "#работа с подматрицами\n",
    "print('Подматрица A:\\n ',B[0:2,1:3]) #строки от 2 до 3, столбцы от 1 до 3"
   ]
  },
  {
   "cell_type": "code",
   "execution_count": 6,
   "metadata": {},
   "outputs": [
    {
     "name": "stdout",
     "output_type": "stream",
     "text": [
      "(3,)\n",
      "(3, 3)\n"
     ]
    }
   ],
   "source": [
    "#как проверить размерность матрицы\n",
    "print(A.shape)\n",
    "print(B[:1])\n",
    "print(B[:1].shape)"
   ]
  },
  {
   "cell_type": "code",
   "execution_count": 12,
   "metadata": {},
   "outputs": [
    {
     "data": {
      "text/plain": [
       "array([[1, 2, 3],\n",
       "       [1, 2, 3]])"
      ]
     },
     "execution_count": 12,
     "metadata": {},
     "output_type": "execute_result"
    }
   ],
   "source": [
    "# оперция конкатенации (объединения)\n",
    "np.concatenate((B[:1], A.reshape(1,3)), axis=0)"
   ]
  },
  {
   "cell_type": "code",
   "execution_count": 16,
   "metadata": {},
   "outputs": [
    {
     "name": "stdout",
     "output_type": "stream",
     "text": [
      "C=\n",
      " [[ 2  4  6]\n",
      " [ 5  7  9]\n",
      " [ 8 10 12]]\n",
      "D=\n",
      " [30 36 42]\n"
     ]
    }
   ],
   "source": [
    "#операции с матрицами\n",
    "C = A + B #сумма элементов\n",
    "print('C=\\n', C)\n",
    "D = np.dot(A,B)\n",
    "print('D=\\n', D)"
   ]
  },
  {
   "cell_type": "code",
   "execution_count": 17,
   "metadata": {},
   "outputs": [
    {
     "name": "stdout",
     "output_type": "stream",
     "text": [
      "E=\n",
      " [[ 2  5  8]\n",
      " [ 4  7 10]\n",
      " [ 6  9 12]]\n"
     ]
    }
   ],
   "source": [
    "E = np.transpose(C)\n",
    "print('E=\\n', E)"
   ]
  },
  {
   "cell_type": "code",
   "execution_count": 18,
   "metadata": {},
   "outputs": [
    {
     "ename": "LinAlgError",
     "evalue": "Singular matrix",
     "output_type": "error",
     "traceback": [
      "\u001b[1;31m---------------------------------------------------------------------------\u001b[0m",
      "\u001b[1;31mLinAlgError\u001b[0m                               Traceback (most recent call last)",
      "\u001b[1;32m<ipython-input-18-050dafa5731f>\u001b[0m in \u001b[0;36m<module>\u001b[1;34m\u001b[0m\n\u001b[1;32m----> 1\u001b[1;33m \u001b[0mlinalg\u001b[0m\u001b[1;33m.\u001b[0m\u001b[0minv\u001b[0m\u001b[1;33m(\u001b[0m\u001b[0mE\u001b[0m\u001b[1;33m)\u001b[0m\u001b[1;33m\u001b[0m\u001b[1;33m\u001b[0m\u001b[0m\n\u001b[0m",
      "\u001b[1;32m<__array_function__ internals>\u001b[0m in \u001b[0;36minv\u001b[1;34m(*args, **kwargs)\u001b[0m\n",
      "\u001b[1;32mC:\\ProgramData\\Anaconda3\\lib\\site-packages\\numpy\\linalg\\linalg.py\u001b[0m in \u001b[0;36minv\u001b[1;34m(a)\u001b[0m\n\u001b[0;32m    543\u001b[0m     \u001b[0msignature\u001b[0m \u001b[1;33m=\u001b[0m \u001b[1;34m'D->D'\u001b[0m \u001b[1;32mif\u001b[0m \u001b[0misComplexType\u001b[0m\u001b[1;33m(\u001b[0m\u001b[0mt\u001b[0m\u001b[1;33m)\u001b[0m \u001b[1;32melse\u001b[0m \u001b[1;34m'd->d'\u001b[0m\u001b[1;33m\u001b[0m\u001b[1;33m\u001b[0m\u001b[0m\n\u001b[0;32m    544\u001b[0m     \u001b[0mextobj\u001b[0m \u001b[1;33m=\u001b[0m \u001b[0mget_linalg_error_extobj\u001b[0m\u001b[1;33m(\u001b[0m\u001b[0m_raise_linalgerror_singular\u001b[0m\u001b[1;33m)\u001b[0m\u001b[1;33m\u001b[0m\u001b[1;33m\u001b[0m\u001b[0m\n\u001b[1;32m--> 545\u001b[1;33m     \u001b[0mainv\u001b[0m \u001b[1;33m=\u001b[0m \u001b[0m_umath_linalg\u001b[0m\u001b[1;33m.\u001b[0m\u001b[0minv\u001b[0m\u001b[1;33m(\u001b[0m\u001b[0ma\u001b[0m\u001b[1;33m,\u001b[0m \u001b[0msignature\u001b[0m\u001b[1;33m=\u001b[0m\u001b[0msignature\u001b[0m\u001b[1;33m,\u001b[0m \u001b[0mextobj\u001b[0m\u001b[1;33m=\u001b[0m\u001b[0mextobj\u001b[0m\u001b[1;33m)\u001b[0m\u001b[1;33m\u001b[0m\u001b[1;33m\u001b[0m\u001b[0m\n\u001b[0m\u001b[0;32m    546\u001b[0m     \u001b[1;32mreturn\u001b[0m \u001b[0mwrap\u001b[0m\u001b[1;33m(\u001b[0m\u001b[0mainv\u001b[0m\u001b[1;33m.\u001b[0m\u001b[0mastype\u001b[0m\u001b[1;33m(\u001b[0m\u001b[0mresult_t\u001b[0m\u001b[1;33m,\u001b[0m \u001b[0mcopy\u001b[0m\u001b[1;33m=\u001b[0m\u001b[1;32mFalse\u001b[0m\u001b[1;33m)\u001b[0m\u001b[1;33m)\u001b[0m\u001b[1;33m\u001b[0m\u001b[1;33m\u001b[0m\u001b[0m\n\u001b[0;32m    547\u001b[0m \u001b[1;33m\u001b[0m\u001b[0m\n",
      "\u001b[1;32mC:\\ProgramData\\Anaconda3\\lib\\site-packages\\numpy\\linalg\\linalg.py\u001b[0m in \u001b[0;36m_raise_linalgerror_singular\u001b[1;34m(err, flag)\u001b[0m\n\u001b[0;32m     86\u001b[0m \u001b[1;33m\u001b[0m\u001b[0m\n\u001b[0;32m     87\u001b[0m \u001b[1;32mdef\u001b[0m \u001b[0m_raise_linalgerror_singular\u001b[0m\u001b[1;33m(\u001b[0m\u001b[0merr\u001b[0m\u001b[1;33m,\u001b[0m \u001b[0mflag\u001b[0m\u001b[1;33m)\u001b[0m\u001b[1;33m:\u001b[0m\u001b[1;33m\u001b[0m\u001b[1;33m\u001b[0m\u001b[0m\n\u001b[1;32m---> 88\u001b[1;33m     \u001b[1;32mraise\u001b[0m \u001b[0mLinAlgError\u001b[0m\u001b[1;33m(\u001b[0m\u001b[1;34m\"Singular matrix\"\u001b[0m\u001b[1;33m)\u001b[0m\u001b[1;33m\u001b[0m\u001b[1;33m\u001b[0m\u001b[0m\n\u001b[0m\u001b[0;32m     89\u001b[0m \u001b[1;33m\u001b[0m\u001b[0m\n\u001b[0;32m     90\u001b[0m \u001b[1;32mdef\u001b[0m \u001b[0m_raise_linalgerror_nonposdef\u001b[0m\u001b[1;33m(\u001b[0m\u001b[0merr\u001b[0m\u001b[1;33m,\u001b[0m \u001b[0mflag\u001b[0m\u001b[1;33m)\u001b[0m\u001b[1;33m:\u001b[0m\u001b[1;33m\u001b[0m\u001b[1;33m\u001b[0m\u001b[0m\n",
      "\u001b[1;31mLinAlgError\u001b[0m: Singular matrix"
     ]
    }
   ],
   "source": [
    "linalg.inv(E)\n"
   ]
  },
  {
   "cell_type": "code",
   "execution_count": 20,
   "metadata": {},
   "outputs": [
    {
     "data": {
      "text/plain": [
       "0.0"
      ]
     },
     "execution_count": 20,
     "metadata": {},
     "output_type": "execute_result"
    }
   ],
   "source": [
    "np.linalg.det(E)"
   ]
  },
  {
   "cell_type": "markdown",
   "metadata": {},
   "source": [
    "### Генератор псевдо случайных чисел "
   ]
  },
  {
   "cell_type": "code",
   "execution_count": 21,
   "metadata": {},
   "outputs": [
    {
     "name": "stdout",
     "output_type": "stream",
     "text": [
      "[-0.23571236  0.00349267  0.02518802  0.16837309 -0.0750744   0.0738886\n",
      "  0.07971558  0.13412414  0.04796055  0.25305008  0.04023952  0.12273432\n",
      "  0.02668443 -0.04801813  0.02822467 -0.12614345 -0.01217131  0.03755434\n",
      "  0.00156277 -0.04233867 -0.02717903  0.06953716  0.12799052  0.13817944\n",
      " -0.10761948 -0.18168234 -0.02256864 -0.00519477  0.08225283 -0.06854014\n",
      " -0.04696191  0.02603174 -0.02489655  0.07178992 -0.03109095  0.0629843\n",
      "  0.16137956  0.03714923  0.0450868   0.07133826 -0.18709449  0.06365339\n",
      " -0.0461294   0.0550602  -0.03508319  0.13047414 -0.05366297 -0.02057374\n",
      "  0.01639435  0.07153869  0.1138051   0.00420639 -0.07429744 -0.00228245\n",
      "  0.21118591 -0.11795535 -0.0004555   0.00268592  0.03152067 -0.01404389\n",
      "  0.06219998 -0.12615395 -0.10649451  0.17079014  0.02601522 -0.08131012\n",
      "  0.12483797 -0.04104603 -0.12198027  0.05247652 -0.03079956  0.00341137\n",
      "  0.15863002  0.05046813  0.02103344  0.14287302 -0.22243375  0.10047974\n",
      " -0.12819171 -0.01769887 -0.01005119 -0.11729098 -0.01701463 -0.04433063\n",
      "  0.16267514 -0.04478251  0.17953622  0.13329495 -0.04261347  0.13341545\n",
      "  0.05491092 -0.0823939  -0.05527929 -0.01687976 -0.05088658  0.10310947\n",
      " -0.16683165 -0.13156501 -0.16245818 -0.04395219]\n"
     ]
    }
   ],
   "source": [
    "mu, sigma = 0, 0.1 # среднее и стандартное отклонение\n",
    "N = 100 #количество значений (размерность)\n",
    "s = np.random.normal(mu, sigma, N)\n",
    "print(s)"
   ]
  },
  {
   "cell_type": "code",
   "execution_count": 22,
   "metadata": {},
   "outputs": [
    {
     "data": {
      "text/plain": [
       "array([[-1.92093619,  0.16814733,  0.30827761],\n",
       "       [-0.50882271,  1.54813902, -1.23822193],\n",
       "       [-0.52761595, -1.6345325 ,  1.21100345]])"
      ]
     },
     "execution_count": 22,
     "metadata": {},
     "output_type": "execute_result"
    }
   ],
   "source": [
    "#генератор псевдослучайной матрицы по нормальному закону распределения с заданными параметрами\n",
    "A = np.random.normal(0, 1, (3, 3))\n",
    "A"
   ]
  },
  {
   "cell_type": "code",
   "execution_count": 23,
   "metadata": {},
   "outputs": [
    {
     "data": {
      "text/plain": [
       "array([[-0.14791484, -0.701835  , -0.67995567],\n",
       "       [ 1.25929695, -2.14623317, -2.51504322],\n",
       "       [ 1.63527162, -3.20262276, -2.86512424]])"
      ]
     },
     "execution_count": 23,
     "metadata": {},
     "output_type": "execute_result"
    }
   ],
   "source": [
    "linalg.inv(A)"
   ]
  },
  {
   "cell_type": "markdown",
   "metadata": {},
   "source": [
    "### Построение графиков"
   ]
  },
  {
   "cell_type": "code",
   "execution_count": 24,
   "metadata": {},
   "outputs": [
    {
     "data": {
      "image/png": "[encoded data removed]",
      "text/plain": [
       "<Figure size 432x288 with 1 Axes>"
      ]
     },
     "metadata": {
      "needs_background": "light"
     },
     "output_type": "display_data"
    }
   ],
   "source": [
    "x_vals = np.random.normal(0, 8, 5)\n",
    "y_vals = np.linspace(0, 8, num=5)\n",
    "plt.plot(x_vals, y_vals, label='r')\n",
    "# plt.grid(True)\n",
    "plt.show()"
   ]
  },
  {
   "cell_type": "code",
   "execution_count": 25,
   "metadata": {},
   "outputs": [
    {
     "data": {
      "image/png": "[encoded data removed]",
      "text/plain": [
       "<Figure size 432x288 with 1 Axes>"
      ]
     },
     "metadata": {
      "needs_background": "light"
     },
     "output_type": "display_data"
    }
   ],
   "source": [
    "def my_dist(x):\n",
    "    return np.exp(-x ** 2)\n",
    "\n",
    "x = np.arange(-20, 20)\n",
    "p = my_dist(x)\n",
    "plt.plot(x, p)\n",
    "plt.show()"
   ]
  },
  {
   "cell_type": "code",
   "execution_count": 26,
   "metadata": {},
   "outputs": [
    {
     "data": {
      "image/png": "[encoded data removed]",
      "text/plain": [
       "<Figure size 432x288 with 1 Axes>"
      ]
     },
     "metadata": {
      "needs_background": "light"
     },
     "output_type": "display_data"
    }
   ],
   "source": [
    "import numpy as np\n",
    "from scipy.interpolate import UnivariateSpline\n",
    "from matplotlib import pyplot as plt\n",
    "\n",
    "N = 10000\n",
    "n = N//10\n",
    "s = np.random.normal(size=N)   # generate your data sample with N elements\n",
    "p, x = np.histogram(s, bins=n) # bin it into n = N//10 bins\n",
    "x = x[:-1] + (x[1] - x[0])/2   # convert bin edges to centers\n",
    "f = UnivariateSpline(x, p, s=n)\n",
    "plt.plot(x, f(x))\n",
    "plt.show()"
   ]
  },
  {
   "cell_type": "markdown",
   "metadata": {},
   "source": [
    "## Базовые подходы к оценке праметра"
   ]
  },
  {
   "cell_type": "markdown",
   "metadata": {},
   "source": [
    "\n",
    "Необходимо по имеющимся данным измерений сопротивления в резисторе, определить истинное значение:\n",
    "\n",
    "| Сопротивление (Ом)|\n",
    "|-------------|\n",
    "| 10.22         |\n",
    "| 10.3         |\n",
    "| 10.36         |\n",
    "| 10.47         |"
   ]
  },
  {
   "cell_type": "code",
   "execution_count": 29,
   "metadata": {},
   "outputs": [],
   "source": [
    "import numpy as np\n",
    "from numpy.linalg import inv"
   ]
  },
  {
   "cell_type": "code",
   "execution_count": 30,
   "metadata": {},
   "outputs": [
    {
     "name": "stdout",
     "output_type": "stream",
     "text": [
      "[10.22 10.3  10.36 10.47]\n",
      "[10.3375]\n"
     ]
    }
   ],
   "source": [
    "#если одинаковая точность\n",
    "a = np.array([10.22,10.3])\n",
    "b = np.array([10.36, 10.47])\n",
    "com_data = np.concatenate((a, b), axis=0)\n",
    "data_dem = len(com_data)\n",
    "print(com_data)\n",
    "\n",
    "H_transp = np.ones(data_dem).reshape(1,data_dem)\n",
    "H = H_transp.reshape(data_dem,1)\n",
    "\n",
    "result= np.dot(inv(np.dot(H_transp, H)),np.dot(H_transp, com_data))\n",
    "print(result)"
   ]
  },
  {
   "cell_type": "markdown",
   "metadata": {},
   "source": [
    "Необходимо по имеющимся данным измерений сопротивления в резисторе, определить истинное значение:\n",
    "\n",
    "| Мультиметр 1 (точность 0.02) | Мультиметр 1 (точность 0.003) |\n",
    "|-------------|-------------|\n",
    "| 10.22         |         |\n",
    "| 10.3         |          |\n",
    "|          | 10.36        |\n",
    "|           | 10.47        |"
   ]
  },
  {
   "cell_type": "code",
   "execution_count": 32,
   "metadata": {},
   "outputs": [
    {
     "name": "stdout",
     "output_type": "stream",
     "text": [
      "[[4.e-04 0.e+00 0.e+00 0.e+00]\n",
      " [0.e+00 4.e-04 0.e+00 0.e+00]\n",
      " [0.e+00 0.e+00 9.e-06 0.e+00]\n",
      " [0.e+00 0.e+00 0.e+00 9.e-06]]\n"
     ]
    }
   ],
   "source": [
    "#если разная точность\n",
    "presicion_1 = 0.02\n",
    "presicion_2 = 0.003\n",
    "deviation_1 = np.full((1,len(a)),presicion_1**2)\n",
    "deviation_2 = np.full((1,len(b)),presicion_2**2)\n",
    "deviation = np.concatenate((deviation_1, deviation_2), axis=1)\n",
    "weights = np.zeros((data_dem, data_dem), float)\n",
    "np.fill_diagonal(weights, deviation)\n",
    "print(weights)"
   ]
  },
  {
   "cell_type": "markdown",
   "metadata": {},
   "source": [
    "Вспоминаем матричную форму всвешенных МНК:\n",
    "\n",
    "\\begin{align}\n",
    "\\hat{x} = \\left(\\mathbf{H}^T\\mathbf{R}^{-1}\\mathbf{H}\\right)^{-1}\\mathbf{H}^T\\mathbf{R}^{-1}\\mathbf{y}\n",
    "\\end{align}"
   ]
  },
  {
   "cell_type": "code",
   "execution_count": 34,
   "metadata": {},
   "outputs": [
    {
     "name": "stdout",
     "output_type": "stream",
     "text": [
      "[10.41158924]\n"
     ]
    }
   ],
   "source": [
    "#дальше надо эти формулы записать\n",
    "res1 = inv(np.dot(np.dot(H_transp,inv(weights)),H))\n",
    "res2 = np.dot(np.dot(H_transp, inv(weights)),com_data)\n",
    "\n",
    "result= np.dot(res1,res2)\n",
    "print(result)"
   ]
  },
  {
   "cell_type": "code",
   "execution_count": null,
   "metadata": {},
   "outputs": [],
   "source": []
  }
 ],
 "metadata": {
  "kernelspec": {
   "display_name": "Python 3",
   "language": "python",
   "name": "python3"
  },
  "language_info": {
   "codemirror_mode": {
    "name": "ipython",
    "version": 3
   },
   "file_extension": ".py",
   "mimetype": "text/x-python",
   "name": "python",
   "nbconvert_exporter": "python",
   "pygments_lexer": "ipython3",
   "version": "3.10.12"
  }
 },
 "nbformat": 4,
 "nbformat_minor": 4
}
